{
 "cells": [
  {
   "cell_type": "markdown",
   "id": "751e59c9",
   "metadata": {},
   "source": [
    "# <span style=color:blue><b>SPRINT 6 - Tarea M6 T01</b></span>  \n",
    "\n",
    " - **Ejercicios para practicar regresiones.**\n",
    " - **A partir de un dataset con información sobre las viviendas de Houston.**  "
   ]
  },
  {
   "cell_type": "markdown",
   "id": "b17f8b25",
   "metadata": {},
   "source": [
    "**LOADING DATA:**"
   ]
  },
  {
   "cell_type": "code",
   "execution_count": 1,
   "id": "c9048420",
   "metadata": {},
   "outputs": [],
   "source": [
    "import pandas as pd\n",
    "import numpy as np \n",
    "import matplotlib.pyplot as plt\n",
    "import sklearn"
   ]
  },
  {
   "cell_type": "code",
   "execution_count": 2,
   "id": "1ccb602a",
   "metadata": {},
   "outputs": [],
   "source": [
    "# Open the choosen file\n",
    "BasePath = \"C:/Users/Pepo/Desktop/Data Science/Barcelona Activa\"\n",
    "Archivo = BasePath + \"/Sprint 5. Introducción al Test de Hipótesis y al Machine Learning\"\n",
    "\n",
    "df = pd.read_csv(Archivo + '/Tarea 2_ViviendasHouston/housing data.csv', \n",
    "                header = None, \n",
    "                 names = [\"CRIM\", \"ZN\", \"INDUS\", \"CHAS\", \"NOX\", \"RM\", \n",
    "                          \"AGE\", \"DIS\", \"RAD\", \"TAX\", \"PTRATIO\", \"B\", \"LSTAT\", \"MEDV\"])"
   ]
  },
  {
   "cell_type": "markdown",
   "id": "e935f9b4",
   "metadata": {},
   "source": [
    "**READING DATA:**"
   ]
  },
  {
   "cell_type": "code",
   "execution_count": 3,
   "id": "6ed22f8f",
   "metadata": {},
   "outputs": [
    {
     "name": "stdout",
     "output_type": "stream",
     "text": [
      "<class 'pandas.core.frame.DataFrame'>\n",
      "RangeIndex: 506 entries, 0 to 505\n",
      "Data columns (total 14 columns):\n",
      " #   Column   Non-Null Count  Dtype  \n",
      "---  ------   --------------  -----  \n",
      " 0   CRIM     506 non-null    float64\n",
      " 1   ZN       506 non-null    float64\n",
      " 2   INDUS    506 non-null    float64\n",
      " 3   CHAS     506 non-null    int64  \n",
      " 4   NOX      506 non-null    float64\n",
      " 5   RM       506 non-null    float64\n",
      " 6   AGE      506 non-null    float64\n",
      " 7   DIS      506 non-null    float64\n",
      " 8   RAD      506 non-null    int64  \n",
      " 9   TAX      506 non-null    float64\n",
      " 10  PTRATIO  506 non-null    float64\n",
      " 11  B        506 non-null    float64\n",
      " 12  LSTAT    506 non-null    float64\n",
      " 13  MEDV     506 non-null    float64\n",
      "dtypes: float64(12), int64(2)\n",
      "memory usage: 55.5 KB\n"
     ]
    }
   ],
   "source": [
    "df.info()"
   ]
  },
  {
   "cell_type": "markdown",
   "id": "3b9b1f11",
   "metadata": {},
   "source": [
    "**Attribute Information:**  \n",
    "  \n",
    "    1. CRIM         per capita crime rate by town  \n",
    "    2. ZN           proportion of residential land zoned for lots over 25,000 sq.ft.  \n",
    "    3. INDUS        proportion of non-retail business acres per town  \n",
    "    4. CHAS         Charles River dummy variable (= 1 if tract bounds river; 0 otherwise)  \n",
    "    5. NOX          nitric oxides concentration (parts per 10 million)  \n",
    "    6. RM           average number of rooms per dwelling  \n",
    "    7. AGE          proportion of owner-occupied units built prior to 1940  \n",
    "    8. DIS          weighted distances to five Boston employment centres  \n",
    "    9. RAD          index of accessibility to radial highways  \n",
    "    10. TAX         full-value property-tax rate per $10,000  \n",
    "11. PTRATIO     pupil-teacher ratio by town  \n",
    "12. B           1000(Bk - 0.63)^2 where Bk is the proportion of blacks by town  \n",
    "13. LSTAT       % lower status of the population  \n",
    "14. MEDV        Median value of owner-occupied homes in $1000's"
   ]
  },
  {
   "cell_type": "code",
   "execution_count": 4,
   "id": "8eeba048",
   "metadata": {},
   "outputs": [
    {
     "data": {
      "text/html": [
       "<div>\n",
       "<style scoped>\n",
       "    .dataframe tbody tr th:only-of-type {\n",
       "        vertical-align: middle;\n",
       "    }\n",
       "\n",
       "    .dataframe tbody tr th {\n",
       "        vertical-align: top;\n",
       "    }\n",
       "\n",
       "    .dataframe thead th {\n",
       "        text-align: right;\n",
       "    }\n",
       "</style>\n",
       "<table border=\"1\" class=\"dataframe\">\n",
       "  <thead>\n",
       "    <tr style=\"text-align: right;\">\n",
       "      <th></th>\n",
       "      <th>CRIM</th>\n",
       "      <th>ZN</th>\n",
       "      <th>INDUS</th>\n",
       "      <th>CHAS</th>\n",
       "      <th>NOX</th>\n",
       "      <th>RM</th>\n",
       "      <th>AGE</th>\n",
       "      <th>DIS</th>\n",
       "      <th>RAD</th>\n",
       "      <th>TAX</th>\n",
       "      <th>PTRATIO</th>\n",
       "      <th>B</th>\n",
       "      <th>LSTAT</th>\n",
       "      <th>MEDV</th>\n",
       "    </tr>\n",
       "  </thead>\n",
       "  <tbody>\n",
       "    <tr>\n",
       "      <th>0</th>\n",
       "      <td>0.00632</td>\n",
       "      <td>18.0</td>\n",
       "      <td>2.31</td>\n",
       "      <td>0</td>\n",
       "      <td>0.538</td>\n",
       "      <td>6.575</td>\n",
       "      <td>65.2</td>\n",
       "      <td>4.0900</td>\n",
       "      <td>1</td>\n",
       "      <td>296.0</td>\n",
       "      <td>15.3</td>\n",
       "      <td>396.90</td>\n",
       "      <td>4.98</td>\n",
       "      <td>24.0</td>\n",
       "    </tr>\n",
       "    <tr>\n",
       "      <th>1</th>\n",
       "      <td>0.02731</td>\n",
       "      <td>0.0</td>\n",
       "      <td>7.07</td>\n",
       "      <td>0</td>\n",
       "      <td>0.469</td>\n",
       "      <td>6.421</td>\n",
       "      <td>78.9</td>\n",
       "      <td>4.9671</td>\n",
       "      <td>2</td>\n",
       "      <td>242.0</td>\n",
       "      <td>17.8</td>\n",
       "      <td>396.90</td>\n",
       "      <td>9.14</td>\n",
       "      <td>21.6</td>\n",
       "    </tr>\n",
       "    <tr>\n",
       "      <th>2</th>\n",
       "      <td>0.02729</td>\n",
       "      <td>0.0</td>\n",
       "      <td>7.07</td>\n",
       "      <td>0</td>\n",
       "      <td>0.469</td>\n",
       "      <td>7.185</td>\n",
       "      <td>61.1</td>\n",
       "      <td>4.9671</td>\n",
       "      <td>2</td>\n",
       "      <td>242.0</td>\n",
       "      <td>17.8</td>\n",
       "      <td>392.83</td>\n",
       "      <td>4.03</td>\n",
       "      <td>34.7</td>\n",
       "    </tr>\n",
       "    <tr>\n",
       "      <th>3</th>\n",
       "      <td>0.03237</td>\n",
       "      <td>0.0</td>\n",
       "      <td>2.18</td>\n",
       "      <td>0</td>\n",
       "      <td>0.458</td>\n",
       "      <td>6.998</td>\n",
       "      <td>45.8</td>\n",
       "      <td>6.0622</td>\n",
       "      <td>3</td>\n",
       "      <td>222.0</td>\n",
       "      <td>18.7</td>\n",
       "      <td>394.63</td>\n",
       "      <td>2.94</td>\n",
       "      <td>33.4</td>\n",
       "    </tr>\n",
       "    <tr>\n",
       "      <th>4</th>\n",
       "      <td>0.06905</td>\n",
       "      <td>0.0</td>\n",
       "      <td>2.18</td>\n",
       "      <td>0</td>\n",
       "      <td>0.458</td>\n",
       "      <td>7.147</td>\n",
       "      <td>54.2</td>\n",
       "      <td>6.0622</td>\n",
       "      <td>3</td>\n",
       "      <td>222.0</td>\n",
       "      <td>18.7</td>\n",
       "      <td>396.90</td>\n",
       "      <td>5.33</td>\n",
       "      <td>36.2</td>\n",
       "    </tr>\n",
       "  </tbody>\n",
       "</table>\n",
       "</div>"
      ],
      "text/plain": [
       "      CRIM    ZN  INDUS  CHAS    NOX     RM   AGE     DIS  RAD    TAX  \\\n",
       "0  0.00632  18.0   2.31     0  0.538  6.575  65.2  4.0900    1  296.0   \n",
       "1  0.02731   0.0   7.07     0  0.469  6.421  78.9  4.9671    2  242.0   \n",
       "2  0.02729   0.0   7.07     0  0.469  7.185  61.1  4.9671    2  242.0   \n",
       "3  0.03237   0.0   2.18     0  0.458  6.998  45.8  6.0622    3  222.0   \n",
       "4  0.06905   0.0   2.18     0  0.458  7.147  54.2  6.0622    3  222.0   \n",
       "\n",
       "   PTRATIO       B  LSTAT  MEDV  \n",
       "0     15.3  396.90   4.98  24.0  \n",
       "1     17.8  396.90   9.14  21.6  \n",
       "2     17.8  392.83   4.03  34.7  \n",
       "3     18.7  394.63   2.94  33.4  \n",
       "4     18.7  396.90   5.33  36.2  "
      ]
     },
     "execution_count": 4,
     "metadata": {},
     "output_type": "execute_result"
    }
   ],
   "source": [
    "df.head()"
   ]
  },
  {
   "cell_type": "code",
   "execution_count": 5,
   "id": "09804106",
   "metadata": {},
   "outputs": [
    {
     "data": {
      "text/html": [
       "<div>\n",
       "<style scoped>\n",
       "    .dataframe tbody tr th:only-of-type {\n",
       "        vertical-align: middle;\n",
       "    }\n",
       "\n",
       "    .dataframe tbody tr th {\n",
       "        vertical-align: top;\n",
       "    }\n",
       "\n",
       "    .dataframe thead th {\n",
       "        text-align: right;\n",
       "    }\n",
       "</style>\n",
       "<table border=\"1\" class=\"dataframe\">\n",
       "  <thead>\n",
       "    <tr style=\"text-align: right;\">\n",
       "      <th></th>\n",
       "      <th>CRIM</th>\n",
       "      <th>ZN</th>\n",
       "      <th>INDUS</th>\n",
       "      <th>CHAS</th>\n",
       "      <th>NOX</th>\n",
       "      <th>RM</th>\n",
       "      <th>AGE</th>\n",
       "      <th>DIS</th>\n",
       "      <th>RAD</th>\n",
       "      <th>TAX</th>\n",
       "      <th>PTRATIO</th>\n",
       "      <th>B</th>\n",
       "      <th>LSTAT</th>\n",
       "      <th>MEDV</th>\n",
       "    </tr>\n",
       "  </thead>\n",
       "  <tbody>\n",
       "    <tr>\n",
       "      <th>count</th>\n",
       "      <td>506.00</td>\n",
       "      <td>506.00</td>\n",
       "      <td>506.00</td>\n",
       "      <td>506.00</td>\n",
       "      <td>506.00</td>\n",
       "      <td>506.00</td>\n",
       "      <td>506.00</td>\n",
       "      <td>506.00</td>\n",
       "      <td>506.00</td>\n",
       "      <td>506.00</td>\n",
       "      <td>506.00</td>\n",
       "      <td>506.00</td>\n",
       "      <td>506.00</td>\n",
       "      <td>506.00</td>\n",
       "    </tr>\n",
       "    <tr>\n",
       "      <th>mean</th>\n",
       "      <td>3.61</td>\n",
       "      <td>11.36</td>\n",
       "      <td>11.14</td>\n",
       "      <td>0.07</td>\n",
       "      <td>0.55</td>\n",
       "      <td>6.28</td>\n",
       "      <td>68.57</td>\n",
       "      <td>3.80</td>\n",
       "      <td>9.55</td>\n",
       "      <td>408.24</td>\n",
       "      <td>18.46</td>\n",
       "      <td>356.67</td>\n",
       "      <td>12.65</td>\n",
       "      <td>22.53</td>\n",
       "    </tr>\n",
       "    <tr>\n",
       "      <th>std</th>\n",
       "      <td>8.60</td>\n",
       "      <td>23.32</td>\n",
       "      <td>6.86</td>\n",
       "      <td>0.25</td>\n",
       "      <td>0.12</td>\n",
       "      <td>0.70</td>\n",
       "      <td>28.15</td>\n",
       "      <td>2.11</td>\n",
       "      <td>8.71</td>\n",
       "      <td>168.54</td>\n",
       "      <td>2.16</td>\n",
       "      <td>91.29</td>\n",
       "      <td>7.14</td>\n",
       "      <td>9.20</td>\n",
       "    </tr>\n",
       "    <tr>\n",
       "      <th>min</th>\n",
       "      <td>0.01</td>\n",
       "      <td>0.00</td>\n",
       "      <td>0.46</td>\n",
       "      <td>0.00</td>\n",
       "      <td>0.38</td>\n",
       "      <td>3.56</td>\n",
       "      <td>2.90</td>\n",
       "      <td>1.13</td>\n",
       "      <td>1.00</td>\n",
       "      <td>187.00</td>\n",
       "      <td>12.60</td>\n",
       "      <td>0.32</td>\n",
       "      <td>1.73</td>\n",
       "      <td>5.00</td>\n",
       "    </tr>\n",
       "    <tr>\n",
       "      <th>25%</th>\n",
       "      <td>0.08</td>\n",
       "      <td>0.00</td>\n",
       "      <td>5.19</td>\n",
       "      <td>0.00</td>\n",
       "      <td>0.45</td>\n",
       "      <td>5.89</td>\n",
       "      <td>45.02</td>\n",
       "      <td>2.10</td>\n",
       "      <td>4.00</td>\n",
       "      <td>279.00</td>\n",
       "      <td>17.40</td>\n",
       "      <td>375.38</td>\n",
       "      <td>6.95</td>\n",
       "      <td>17.02</td>\n",
       "    </tr>\n",
       "    <tr>\n",
       "      <th>50%</th>\n",
       "      <td>0.26</td>\n",
       "      <td>0.00</td>\n",
       "      <td>9.69</td>\n",
       "      <td>0.00</td>\n",
       "      <td>0.54</td>\n",
       "      <td>6.21</td>\n",
       "      <td>77.50</td>\n",
       "      <td>3.21</td>\n",
       "      <td>5.00</td>\n",
       "      <td>330.00</td>\n",
       "      <td>19.05</td>\n",
       "      <td>391.44</td>\n",
       "      <td>11.36</td>\n",
       "      <td>21.20</td>\n",
       "    </tr>\n",
       "    <tr>\n",
       "      <th>75%</th>\n",
       "      <td>3.68</td>\n",
       "      <td>12.50</td>\n",
       "      <td>18.10</td>\n",
       "      <td>0.00</td>\n",
       "      <td>0.62</td>\n",
       "      <td>6.62</td>\n",
       "      <td>94.07</td>\n",
       "      <td>5.19</td>\n",
       "      <td>24.00</td>\n",
       "      <td>666.00</td>\n",
       "      <td>20.20</td>\n",
       "      <td>396.22</td>\n",
       "      <td>16.96</td>\n",
       "      <td>25.00</td>\n",
       "    </tr>\n",
       "    <tr>\n",
       "      <th>max</th>\n",
       "      <td>88.98</td>\n",
       "      <td>100.00</td>\n",
       "      <td>27.74</td>\n",
       "      <td>1.00</td>\n",
       "      <td>0.87</td>\n",
       "      <td>8.78</td>\n",
       "      <td>100.00</td>\n",
       "      <td>12.13</td>\n",
       "      <td>24.00</td>\n",
       "      <td>711.00</td>\n",
       "      <td>22.00</td>\n",
       "      <td>396.90</td>\n",
       "      <td>37.97</td>\n",
       "      <td>50.00</td>\n",
       "    </tr>\n",
       "  </tbody>\n",
       "</table>\n",
       "</div>"
      ],
      "text/plain": [
       "         CRIM      ZN   INDUS    CHAS     NOX      RM     AGE     DIS     RAD  \\\n",
       "count  506.00  506.00  506.00  506.00  506.00  506.00  506.00  506.00  506.00   \n",
       "mean     3.61   11.36   11.14    0.07    0.55    6.28   68.57    3.80    9.55   \n",
       "std      8.60   23.32    6.86    0.25    0.12    0.70   28.15    2.11    8.71   \n",
       "min      0.01    0.00    0.46    0.00    0.38    3.56    2.90    1.13    1.00   \n",
       "25%      0.08    0.00    5.19    0.00    0.45    5.89   45.02    2.10    4.00   \n",
       "50%      0.26    0.00    9.69    0.00    0.54    6.21   77.50    3.21    5.00   \n",
       "75%      3.68   12.50   18.10    0.00    0.62    6.62   94.07    5.19   24.00   \n",
       "max     88.98  100.00   27.74    1.00    0.87    8.78  100.00   12.13   24.00   \n",
       "\n",
       "          TAX  PTRATIO       B   LSTAT    MEDV  \n",
       "count  506.00   506.00  506.00  506.00  506.00  \n",
       "mean   408.24    18.46  356.67   12.65   22.53  \n",
       "std    168.54     2.16   91.29    7.14    9.20  \n",
       "min    187.00    12.60    0.32    1.73    5.00  \n",
       "25%    279.00    17.40  375.38    6.95   17.02  \n",
       "50%    330.00    19.05  391.44   11.36   21.20  \n",
       "75%    666.00    20.20  396.22   16.96   25.00  \n",
       "max    711.00    22.00  396.90   37.97   50.00  "
      ]
     },
     "execution_count": 5,
     "metadata": {},
     "output_type": "execute_result"
    }
   ],
   "source": [
    "df.describe().round(2)"
   ]
  },
  {
   "cell_type": "code",
   "execution_count": 6,
   "id": "f86dc2fe",
   "metadata": {},
   "outputs": [
    {
     "data": {
      "text/plain": [
       "<Figure size 1440x720 with 0 Axes>"
      ]
     },
     "metadata": {},
     "output_type": "display_data"
    },
    {
     "data": {
      "image/png": "[encoded data removed]",
      "text/plain": [
       "<Figure size 432x288 with 16 Axes>"
      ]
     },
     "metadata": {
      "needs_background": "light"
     },
     "output_type": "display_data"
    }
   ],
   "source": [
    "plt.figure(figsize = (20,10))\n",
    "df.hist()\n",
    "plt.tight_layout() # para que no se superpongan las graficas"
   ]
  },
  {
   "cell_type": "markdown",
   "id": "cc5810a8",
   "metadata": {},
   "source": [
    "**NOTA:** Analizando la tabla estadística y los histogramas, se concluye que la mayoría de las variables contienen outliers. Esta información es de utilidad al momento de realizar el pre-procesado de los datos y escalar los mismos."
   ]
  },
  {
   "cell_type": "markdown",
   "id": "dac2ea9e",
   "metadata": {},
   "source": [
    "**PREPOCESSING THE DATA:**"
   ]
  },
  {
   "cell_type": "markdown",
   "id": "5ff1dad2",
   "metadata": {},
   "source": [
    "- Las variables independientes denominados \"X\", corresponden a todas las columnas del dataframe \"df\", eliminando la última columna que corresponde a la variable dependiente \"y\" denominada MEDV (Median value of owner-occupied homes in $1000's). "
   ]
  },
  {
   "cell_type": "code",
   "execution_count": 7,
   "id": "8bf8bf1e",
   "metadata": {},
   "outputs": [
    {
     "name": "stdout",
     "output_type": "stream",
     "text": [
      "Shape X: (506, 13) \n",
      "Shape y: (506,)\n"
     ]
    }
   ],
   "source": [
    "# Create arrays\n",
    "data = df.values\n",
    "\n",
    "# split into inputs and outputs\n",
    "X, y = data[:, :-1], data[:, -1]\n",
    "print(\"Shape X:\", X.shape,\"\\nShape y:\", y.shape)"
   ]
  },
  {
   "cell_type": "markdown",
   "id": "05c3cee9",
   "metadata": {},
   "source": [
    " - **Scaling data with outliers:**  \n",
    "Si sus datos contienen muchos valores atípicos, es probable que escalar utilizando la media y la varianza de los datos no funcione muy bien. En estos casos, puede usar **RobustScaler** como reemplazo directo. Utiliza estimaciones más sólidas para el centro y el rango de sus datos."
   ]
  },
  {
   "cell_type": "code",
   "execution_count": 8,
   "id": "66e1fecf",
   "metadata": {},
   "outputs": [],
   "source": [
    "#Scale\n",
    "from sklearn.preprocessing import RobustScaler\n",
    "scaler = RobustScaler()\n",
    "scaled_X = scaler.fit_transform(X)"
   ]
  },
  {
   "cell_type": "markdown",
   "id": "0ec86229",
   "metadata": {},
   "source": [
    "**TRAINING AND TEST SPLIT DATA:**"
   ]
  },
  {
   "cell_type": "markdown",
   "id": "9bc180a1",
   "metadata": {},
   "source": [
    "- La evaluación, se realiza dividiendo los datos de la siguiente manera: 80% Train y 20% Test."
   ]
  },
  {
   "cell_type": "code",
   "execution_count": 9,
   "id": "3005dfae",
   "metadata": {
    "scrolled": true
   },
   "outputs": [
    {
     "name": "stdout",
     "output_type": "stream",
     "text": [
      "Shape X_train: (404, 13) \n",
      "Shape X_test: (102, 13) \n",
      "Shape y_train: (404,) \n",
      "Shape y_test: (102,)\n"
     ]
    }
   ],
   "source": [
    "# train-test split evaluation \n",
    "from sklearn.model_selection import train_test_split\n",
    "\n",
    "# split into train test sets\n",
    "X_train, X_test, y_train, y_test = train_test_split(scaled_X, y, test_size=0.20, random_state=1)\n",
    "print(\"Shape X_train:\", X_train.shape, \"\\nShape X_test:\", X_test.shape, \n",
    "      \"\\nShape y_train:\", y_train.shape, \"\\nShape y_test:\",y_test.shape)"
   ]
  },
  {
   "cell_type": "markdown",
   "id": "466bed01",
   "metadata": {},
   "source": [
    "## <span style=color:red><b>Ejercicio 1</b></span>\n",
    "<span style=color:blue><b><i>Crea al menos dos modelos de regresión distintos para intentar predecir lo mejor posible el precio de las viviendas (MEDV) del archivo adjunto.</i></b></span>"
   ]
  },
  {
   "cell_type": "markdown",
   "id": "1ddae850",
   "metadata": {},
   "source": [
    "**MODEL 1: *LINEAR REGRESSION***"
   ]
  },
  {
   "cell_type": "code",
   "execution_count": 10,
   "id": "b9cc0ae5",
   "metadata": {},
   "outputs": [
    {
     "name": "stdout",
     "output_type": "stream",
     "text": [
      "R2: 0.763\n",
      "MSE: 23.381\n",
      "MAE: 3.751\n"
     ]
    }
   ],
   "source": [
    "# Import required libraries\n",
    "from sklearn import linear_model\n",
    "\n",
    "# Import necessary modules\n",
    "from sklearn.metrics import mean_squared_error\n",
    "from sklearn.metrics import mean_absolute_error\n",
    "from sklearn.metrics import r2_score\n",
    "\n",
    "model_1 = linear_model.LinearRegression()\n",
    "\n",
    "# Train the model\n",
    "model_1.fit(X_train,y_train)\n",
    "\n",
    "# make predictions\n",
    "yhat_m1 = model_1.predict(X_test)\n",
    "\n",
    "# evaluate predictions\n",
    "r2_1 = r2_score(y_test, yhat_m1)\n",
    "mse_1 = mean_squared_error(y_test, yhat_m1)\n",
    "mae_1 = mean_absolute_error(y_test, yhat_m1)\n",
    "\n",
    "print('R2: %.3f' % r2_1)\n",
    "print('MSE: %.3f' % mse_1)\n",
    "print('MAE: %.3f' % mae_1)"
   ]
  },
  {
   "cell_type": "markdown",
   "id": "e2dfea8c",
   "metadata": {},
   "source": [
    "**MODEL 2: *RANDOM FOREST REGRESSION***"
   ]
  },
  {
   "cell_type": "code",
   "execution_count": 11,
   "id": "cb8b667e",
   "metadata": {},
   "outputs": [
    {
     "name": "stdout",
     "output_type": "stream",
     "text": [
      "R2: 0.910\n",
      "MSE: 8.912\n",
      "MAE: 2.351\n"
     ]
    }
   ],
   "source": [
    "# Import required libraries\n",
    "from sklearn.ensemble import RandomForestRegressor\n",
    "\n",
    "# Model\n",
    "model_2 = RandomForestRegressor(random_state= 1)\n",
    "\n",
    "# Train the model\n",
    "model_2.fit(X_train, y_train)\n",
    "\n",
    "# make predictions\n",
    "yhat_m2 = model_2.predict(X_test)\n",
    "\n",
    "# evaluate predictions\n",
    "r2_2 = r2_score(y_test, yhat_m2)\n",
    "mse_2 = mean_squared_error(y_test, yhat_m2)\n",
    "mae_2 = mean_absolute_error(y_test, yhat_m2)\n",
    "\n",
    "print('R2: %.3f' % r2_2)\n",
    "print('MSE: %.3f' % mse_2)\n",
    "print('MAE: %.3f' % mae_2)"
   ]
  },
  {
   "cell_type": "markdown",
   "id": "0a362c8e",
   "metadata": {},
   "source": [
    "**MODEL 3: *NEURAL NETWORK REGRESSION***"
   ]
  },
  {
   "cell_type": "markdown",
   "id": "12c0793f",
   "metadata": {},
   "source": [
    "Nota: se incrementa el número de max_iter = 700 (default = 200) ya que obtenemos un mensaje de aviso que el modelo no converge."
   ]
  },
  {
   "cell_type": "code",
   "execution_count": 12,
   "id": "56453769",
   "metadata": {},
   "outputs": [
    {
     "name": "stdout",
     "output_type": "stream",
     "text": [
      "R2: 0.858\n",
      "MSE: 14.060\n",
      "MAE: 2.882\n"
     ]
    }
   ],
   "source": [
    "# Import required libraries\n",
    "from sklearn.neural_network import MLPRegressor\n",
    "\n",
    "#model\n",
    "model_3 = MLPRegressor(hidden_layer_sizes=(13,13,13), random_state=1, max_iter=700)\n",
    "\n",
    "# Train the model\n",
    "model_3.fit(X_train,y_train)\n",
    "\n",
    "# make predictions\n",
    "yhat_m3 = model_3.predict(X_test)\n",
    "\n",
    "# evaluate predictions\n",
    "r2_3 = r2_score(y_test, yhat_m3)\n",
    "mse_3 = mean_squared_error(y_test, yhat_m3)\n",
    "mae_3 = mean_absolute_error(y_test, yhat_m3)\n",
    "\n",
    "print('R2: %.3f' % r2_3)\n",
    "print('MSE: %.3f' % mse_3)\n",
    "print('MAE: %.3f' % mae_3)"
   ]
  },
  {
   "cell_type": "markdown",
   "id": "d709c3d5",
   "metadata": {},
   "source": [
    "## <span style=color:red><b>Ejercicio 2</b></span>\n",
    "<span style=color:blue><b><i>Comparar los resultados en base al MSE y al R2.</i></b></span>"
   ]
  },
  {
   "cell_type": "code",
   "execution_count": 13,
   "id": "62ba1fc5",
   "metadata": {},
   "outputs": [
    {
     "data": {
      "text/html": [
       "<div>\n",
       "<style scoped>\n",
       "    .dataframe tbody tr th:only-of-type {\n",
       "        vertical-align: middle;\n",
       "    }\n",
       "\n",
       "    .dataframe tbody tr th {\n",
       "        vertical-align: top;\n",
       "    }\n",
       "\n",
       "    .dataframe thead th {\n",
       "        text-align: right;\n",
       "    }\n",
       "</style>\n",
       "<table border=\"1\" class=\"dataframe\">\n",
       "  <thead>\n",
       "    <tr style=\"text-align: right;\">\n",
       "      <th></th>\n",
       "      <th>Model</th>\n",
       "      <th>R2</th>\n",
       "      <th>MSE</th>\n",
       "      <th>MAE</th>\n",
       "    </tr>\n",
       "  </thead>\n",
       "  <tbody>\n",
       "    <tr>\n",
       "      <th>0</th>\n",
       "      <td>Linear Regression</td>\n",
       "      <td>0.763</td>\n",
       "      <td>23.381</td>\n",
       "      <td>3.751</td>\n",
       "    </tr>\n",
       "    <tr>\n",
       "      <th>1</th>\n",
       "      <td>Random Forest</td>\n",
       "      <td>0.910</td>\n",
       "      <td>8.912</td>\n",
       "      <td>2.351</td>\n",
       "    </tr>\n",
       "    <tr>\n",
       "      <th>2</th>\n",
       "      <td>Neural Network</td>\n",
       "      <td>0.858</td>\n",
       "      <td>14.060</td>\n",
       "      <td>2.882</td>\n",
       "    </tr>\n",
       "  </tbody>\n",
       "</table>\n",
       "</div>"
      ],
      "text/plain": [
       "               Model     R2     MSE    MAE\n",
       "0  Linear Regression  0.763  23.381  3.751\n",
       "1      Random Forest  0.910   8.912  2.351\n",
       "2     Neural Network  0.858  14.060  2.882"
      ]
     },
     "execution_count": 13,
     "metadata": {},
     "output_type": "execute_result"
    }
   ],
   "source": [
    "results = pd.DataFrame({'Model': ['Linear Regression', 'Random Forest','Neural Network'],\n",
    "                        'R2': [r2_1, r2_2, r2_3], \n",
    "                        'MSE': [mse_1, mse_2, mse_3], \n",
    "                        'MAE': [mae_1, mae_2, mae_3]})\n",
    "results.round(3)"
   ]
  },
  {
   "cell_type": "code",
   "execution_count": 14,
   "id": "92f2ea51",
   "metadata": {},
   "outputs": [
    {
     "data": {
      "image/png": "[encoded data removed]",
      "text/plain": [
       "<Figure size 1080x576 with 1 Axes>"
      ]
     },
     "metadata": {
      "needs_background": "light"
     },
     "output_type": "display_data"
    }
   ],
   "source": [
    "plt.figure(figsize = (15,8))\n",
    "x_ax = range(len(y_test))\n",
    "plt.plot(x_ax, y_test, linewidth=2, label=\"original\", ls=\":\")\n",
    "plt.plot(x_ax, yhat_m1, linewidth=4., label=\"predicted Linear Regression\", c=\"black\")\n",
    "plt.plot(x_ax, yhat_m2, linewidth=2, label=\"predicted Random Forest\", c=\"red\")\n",
    "plt.plot(x_ax, yhat_m3, linewidth=1, label=\"predicted Neural Network\", c=\"green\")\n",
    "plt.title(\"y-test and y-predicted data\")\n",
    "plt.xlabel('X-axis')\n",
    "plt.ylabel('Y-axis')\n",
    "plt.legend(loc='best',fancybox=True, shadow=True)\n",
    "plt.grid(True)\n",
    "plt.show()"
   ]
  },
  {
   "cell_type": "markdown",
   "id": "a8b928fd",
   "metadata": {},
   "source": [
    "Como se puede observar tanto en la tabla de resultados, como en la gráfica anterior, el modelo que predice mejores resultados es **Random Forest**, con un valor de **R2: 0.91** (el valor más cercano a 1), y a la vez un valor de **MSE: 8.91** (el menor error de los modelos comparados, igual que el MAE)."
   ]
  },
  {
   "cell_type": "markdown",
   "id": "18407776",
   "metadata": {},
   "source": [
    "## <span style=color:red><b>Ejercicio 3</b></span>\n",
    "<span style=color:blue><b><i>Entrenarlos utilizando los diferentes parámetros que se admiten para intentar mejorar su predicción.</i></b></span>"
   ]
  },
  {
   "cell_type": "markdown",
   "id": "5110fe80",
   "metadata": {},
   "source": [
    "## TUNING THE HYPER-PARAMETERS OF AN ESTIMATOR\n",
    "https://scikit-learn.org/stable/modules/grid_search.html# \n",
    "\n",
    "A search consists of:\n",
    "- an estimator (regressor or classifier);\n",
    "- a parameter space;\n",
    "- a method for searching or sampling candidates;\n",
    "- a cross-validation scheme; and\n",
    "- a score function."
   ]
  },
  {
   "cell_type": "markdown",
   "id": "c46e9f7b",
   "metadata": {},
   "source": [
    "**MODEL 1: *LINEAR REGRESSION***"
   ]
  },
  {
   "cell_type": "code",
   "execution_count": 15,
   "id": "0f8077ef",
   "metadata": {},
   "outputs": [
    {
     "data": {
      "text/plain": [
       "{'copy_X': True,\n",
       " 'fit_intercept': True,\n",
       " 'n_jobs': None,\n",
       " 'normalize': False,\n",
       " 'positive': False}"
      ]
     },
     "execution_count": 15,
     "metadata": {},
     "output_type": "execute_result"
    }
   ],
   "source": [
    "#Estimator\n",
    "model_1.get_params()"
   ]
  },
  {
   "cell_type": "code",
   "execution_count": 49,
   "id": "6a321b05",
   "metadata": {},
   "outputs": [
    {
     "name": "stdout",
     "output_type": "stream",
     "text": [
      "Best Hyper-parameters:  {'copy_X': True, 'fit_intercept': True, 'normalize': True}\n"
     ]
    }
   ],
   "source": [
    "#Parameter search\n",
    "from sklearn.model_selection import GridSearchCV\n",
    "\n",
    "#param_grid: \n",
    "    #dict or list of dictionaries, with parameters names (str)\n",
    "param_grid = dict()\n",
    "param_grid['copy_X'] = [True, False]\n",
    "param_grid['fit_intercept'] = [True, False]\n",
    "param_grid['normalize'] = [True, False]\n",
    "\n",
    "#Model without fit\n",
    "model_11 = linear_model.LinearRegression()\n",
    "\n",
    "# cross validator (cv): \n",
    "    #For integer/None inputs, if the estimator is a classifier and y \n",
    "    #is either binary or multiclass, StratifiedKFold is used.\n",
    "    #In all other cases, KFold is used, by default cv = 5. \n",
    "\n",
    "search = GridSearchCV(model_11, param_grid, scoring = 'neg_mean_absolute_error', n_jobs = -1)\n",
    "\n",
    "# Considerando que la función ·GridSearchCV· realiza by default CV, usamos los DATOS COMPLETOS.\n",
    "result = search.fit(scaled_X, y)\n",
    "\n",
    "print('Best Hyper-parameters: ', result.best_params_)"
   ]
  },
  {
   "cell_type": "markdown",
   "id": "cfef3e80",
   "metadata": {},
   "source": [
    "- Repetimos la predicción con los HYPER-PARAMETERS y analizamos los resultados"
   ]
  },
  {
   "cell_type": "code",
   "execution_count": 50,
   "id": "b4a317b5",
   "metadata": {},
   "outputs": [
    {
     "name": "stdout",
     "output_type": "stream",
     "text": [
      "R2: 0.763\n",
      "MSE: 23.381\n",
      "MAE: 3.751\n"
     ]
    }
   ],
   "source": [
    "model_1hp = linear_model.LinearRegression(normalize = True)\n",
    "model_1hp.fit(X_train,y_train)\n",
    "\n",
    "# make predictions\n",
    "yhat_m1hp = model_1hp.predict(X_test)\n",
    "\n",
    "# evaluate predictions\n",
    "r2_1hp = r2_score(y_test, yhat_m1hp)\n",
    "mse_1hp = mean_squared_error(y_test, yhat_m1hp)\n",
    "mae_1hp = mean_absolute_error(y_test, yhat_m1hp)\n",
    "\n",
    "print('R2: %.3f' % r2_1hp)\n",
    "print('MSE: %.3f' % mse_1hp)\n",
    "print('MAE: %.3f' % mae_1hp)"
   ]
  },
  {
   "cell_type": "markdown",
   "id": "2684b973",
   "metadata": {},
   "source": [
    "**MODEL 2: *RANDOM FOREST REGRESSION***"
   ]
  },
  {
   "cell_type": "code",
   "execution_count": 18,
   "id": "5ed99144",
   "metadata": {},
   "outputs": [
    {
     "data": {
      "text/plain": [
       "{'bootstrap': True,\n",
       " 'ccp_alpha': 0.0,\n",
       " 'criterion': 'mse',\n",
       " 'max_depth': None,\n",
       " 'max_features': 'auto',\n",
       " 'max_leaf_nodes': None,\n",
       " 'max_samples': None,\n",
       " 'min_impurity_decrease': 0.0,\n",
       " 'min_impurity_split': None,\n",
       " 'min_samples_leaf': 1,\n",
       " 'min_samples_split': 2,\n",
       " 'min_weight_fraction_leaf': 0.0,\n",
       " 'n_estimators': 100,\n",
       " 'n_jobs': None,\n",
       " 'oob_score': False,\n",
       " 'random_state': 1,\n",
       " 'verbose': 0,\n",
       " 'warm_start': False}"
      ]
     },
     "execution_count": 18,
     "metadata": {},
     "output_type": "execute_result"
    }
   ],
   "source": [
    "model_2.get_params()"
   ]
  },
  {
   "cell_type": "code",
   "execution_count": 51,
   "id": "e4ffb84d",
   "metadata": {},
   "outputs": [
    {
     "name": "stdout",
     "output_type": "stream",
     "text": [
      "Best Hyper-parameters:  {'max_depth': None, 'n_estimators': 150, 'oob_score': True}\n"
     ]
    }
   ],
   "source": [
    "#param_grid: \n",
    "    #dict or list of dictionaries, with parameters names (str)\n",
    "param_grid2 = dict()\n",
    "param_grid2['max_depth'] = [None, 2, 3, 5]\n",
    "param_grid2['n_estimators'] = [10, 50, 75, 100, 125, 150, 175, 200]\n",
    "param_grid2['oob_score'] = [True, False]\n",
    "\n",
    "# Model without fit \n",
    "model_22 = RandomForestRegressor(random_state= 1)\n",
    "\n",
    "# cross validator (cv): \n",
    "    #For integer/None inputs, if the estimator is a classifier and y \n",
    "    #is either binary or multiclass, StratifiedKFold is used.\n",
    "    #In all other cases, KFold is used. \n",
    "\n",
    "search2 = GridSearchCV(model_22, param_grid2, scoring = 'neg_mean_absolute_error', n_jobs = -1)\n",
    "\n",
    "# Considerando que la función ·GridSearchCV· realiza by default CV, usamos los DATOS COMPLETOS.\n",
    "result2 = search2.fit(scaled_X, y)\n",
    "\n",
    "print('Best Hyper-parameters: ', result2.best_params_)"
   ]
  },
  {
   "cell_type": "markdown",
   "id": "b00ff9ce",
   "metadata": {},
   "source": [
    "- Repetimos la predicción con los HYPER-PARAMETERS y analizamos los resultados"
   ]
  },
  {
   "cell_type": "code",
   "execution_count": 52,
   "id": "868fd692",
   "metadata": {},
   "outputs": [
    {
     "name": "stdout",
     "output_type": "stream",
     "text": [
      "R2: 0.913\n",
      "MSE: 8.616\n",
      "MAE: 2.325\n"
     ]
    }
   ],
   "source": [
    "# fit the model\n",
    "model_2hp = RandomForestRegressor(random_state= 1, n_estimators = 150, oob_score = True)\n",
    "model_2hp.fit(X_train, y_train)\n",
    "\n",
    "# make predictions\n",
    "yhat_m2hp = model_2hp.predict(X_test)\n",
    "\n",
    "# evaluate predictions\n",
    "r2_2hp = r2_score(y_test, yhat_m2hp)\n",
    "mse_2hp = mean_squared_error(y_test, yhat_m2hp)\n",
    "mae_2hp = mean_absolute_error(y_test, yhat_m2hp)\n",
    "\n",
    "print('R2: %.3f' % r2_2hp)\n",
    "print('MSE: %.3f' % mse_2hp)\n",
    "print('MAE: %.3f' % mae_2hp)"
   ]
  },
  {
   "cell_type": "markdown",
   "id": "01afbd59",
   "metadata": {},
   "source": [
    "**MODEL 3: *NEURAL NETWORK REGRESSION***"
   ]
  },
  {
   "cell_type": "code",
   "execution_count": 21,
   "id": "3ce83daf",
   "metadata": {},
   "outputs": [
    {
     "data": {
      "text/plain": [
       "{'activation': 'relu',\n",
       " 'alpha': 0.0001,\n",
       " 'batch_size': 'auto',\n",
       " 'beta_1': 0.9,\n",
       " 'beta_2': 0.999,\n",
       " 'early_stopping': False,\n",
       " 'epsilon': 1e-08,\n",
       " 'hidden_layer_sizes': (13, 13, 13),\n",
       " 'learning_rate': 'constant',\n",
       " 'learning_rate_init': 0.001,\n",
       " 'max_fun': 15000,\n",
       " 'max_iter': 700,\n",
       " 'momentum': 0.9,\n",
       " 'n_iter_no_change': 10,\n",
       " 'nesterovs_momentum': True,\n",
       " 'power_t': 0.5,\n",
       " 'random_state': 1,\n",
       " 'shuffle': True,\n",
       " 'solver': 'adam',\n",
       " 'tol': 0.0001,\n",
       " 'validation_fraction': 0.1,\n",
       " 'verbose': False,\n",
       " 'warm_start': False}"
      ]
     },
     "execution_count": 21,
     "metadata": {},
     "output_type": "execute_result"
    }
   ],
   "source": [
    "model_3.get_params()"
   ]
  },
  {
   "cell_type": "code",
   "execution_count": 55,
   "id": "dd4b8919",
   "metadata": {},
   "outputs": [
    {
     "name": "stdout",
     "output_type": "stream",
     "text": [
      "Best Hyper-parameters:  {'activation': 'logistic', 'max_iter': 3000, 'solver': 'adam', 'warm_start': True}\n"
     ]
    },
    {
     "name": "stderr",
     "output_type": "stream",
     "text": [
      "C:\\Users\\Pepo\\anaconda3\\lib\\site-packages\\sklearn\\neural_network\\_multilayer_perceptron.py:614: ConvergenceWarning: Stochastic Optimizer: Maximum iterations (3000) reached and the optimization hasn't converged yet.\n",
      "  warnings.warn(\n"
     ]
    }
   ],
   "source": [
    "#param_grid: \n",
    "    #dict or list of dictionaries, with parameters names (str)\n",
    "param_grid3 = dict()\n",
    "param_grid3['activation'] = [\"identity\", \"logistic\", \"tanh\", \"relu\"]\n",
    "param_grid3['solver'] = [\"adam\", \"lbfgs\"]\n",
    "param_grid3['max_iter'] = [700, 1000, 3000, 5000, 10000, 15000]\n",
    "param_grid3['warm_start'] = [True, False]\n",
    "\n",
    "#model without fit\n",
    "model_33 = MLPRegressor(hidden_layer_sizes=(13,13,13), random_state=1)\n",
    "\n",
    "# cross validator (cv): \n",
    "    #For integer/None inputs, if the estimator is a classifier and y \n",
    "    #is either binary or multiclass, StratifiedKFold is used.\n",
    "    #In all other cases, KFold is used. \n",
    "\n",
    "search3 = GridSearchCV(model_33, param_grid3, scoring = 'neg_mean_absolute_error', n_jobs = -1)\n",
    "\n",
    "# Considerando que la función ·GridSearchCV· realiza by default CV, usamos los DATOS COMPLETOS.\n",
    "result3 = search3.fit(scaled_X, y)\n",
    "\n",
    "print('Best Hyper-parameters: ', result3.best_params_)"
   ]
  },
  {
   "cell_type": "markdown",
   "id": "2d65f62f",
   "metadata": {},
   "source": [
    "- Repetimos la predicción con los Hyper-Parameters y analizamos los resultados, dado que las max_iter no convergen, se incrementa su valor."
   ]
  },
  {
   "cell_type": "code",
   "execution_count": 56,
   "id": "c8f3c0c7",
   "metadata": {},
   "outputs": [
    {
     "name": "stdout",
     "output_type": "stream",
     "text": [
      "R2: 0.759\n",
      "MSE: 23.815\n",
      "MAE: 3.433\n"
     ]
    }
   ],
   "source": [
    "model_3hp = MLPRegressor(hidden_layer_sizes=(13,13,13), activation='logistic', solver='adam', random_state=1, \n",
    "                        max_iter=15000, warm_start=True )\n",
    "model_3hp.fit(X_train,y_train)\n",
    "\n",
    "# make predictions\n",
    "yhat_m3hp = model_3hp.predict(X_test)\n",
    "\n",
    "# evaluate predictions\n",
    "r2_3hp = r2_score(y_test, yhat_m3hp)\n",
    "mse_3hp = mean_squared_error(y_test, yhat_m3hp)\n",
    "mae_3hp = mean_absolute_error(y_test, yhat_m3hp)\n",
    "\n",
    "print('R2: %.3f' % r2_3hp)\n",
    "print('MSE: %.3f' % mse_3hp)\n",
    "print('MAE: %.3f' % mae_3hp)"
   ]
  },
  {
   "cell_type": "code",
   "execution_count": 57,
   "id": "f78d4b9f",
   "metadata": {},
   "outputs": [
    {
     "data": {
      "text/html": [
       "<div>\n",
       "<style scoped>\n",
       "    .dataframe tbody tr th:only-of-type {\n",
       "        vertical-align: middle;\n",
       "    }\n",
       "\n",
       "    .dataframe tbody tr th {\n",
       "        vertical-align: top;\n",
       "    }\n",
       "\n",
       "    .dataframe thead th {\n",
       "        text-align: right;\n",
       "    }\n",
       "</style>\n",
       "<table border=\"1\" class=\"dataframe\">\n",
       "  <thead>\n",
       "    <tr style=\"text-align: right;\">\n",
       "      <th></th>\n",
       "      <th>Model</th>\n",
       "      <th>R2</th>\n",
       "      <th>MSE</th>\n",
       "      <th>MAE</th>\n",
       "    </tr>\n",
       "  </thead>\n",
       "  <tbody>\n",
       "    <tr>\n",
       "      <th>0</th>\n",
       "      <td>Linear Regression</td>\n",
       "      <td>0.763417</td>\n",
       "      <td>23.380836</td>\n",
       "      <td>3.750712</td>\n",
       "    </tr>\n",
       "    <tr>\n",
       "      <th>1</th>\n",
       "      <td>Random Forest</td>\n",
       "      <td>0.909827</td>\n",
       "      <td>8.911551</td>\n",
       "      <td>2.350569</td>\n",
       "    </tr>\n",
       "    <tr>\n",
       "      <th>2</th>\n",
       "      <td>Neural Network</td>\n",
       "      <td>0.857733</td>\n",
       "      <td>14.059845</td>\n",
       "      <td>2.882492</td>\n",
       "    </tr>\n",
       "    <tr>\n",
       "      <th>0</th>\n",
       "      <td>Linear Regression H-P</td>\n",
       "      <td>0.763417</td>\n",
       "      <td>23.380836</td>\n",
       "      <td>3.750712</td>\n",
       "    </tr>\n",
       "    <tr>\n",
       "      <th>1</th>\n",
       "      <td>Random Forest H-P</td>\n",
       "      <td>0.912815</td>\n",
       "      <td>8.616296</td>\n",
       "      <td>2.324673</td>\n",
       "    </tr>\n",
       "    <tr>\n",
       "      <th>2</th>\n",
       "      <td>Neural Network H-P</td>\n",
       "      <td>0.759024</td>\n",
       "      <td>23.815058</td>\n",
       "      <td>3.432954</td>\n",
       "    </tr>\n",
       "  </tbody>\n",
       "</table>\n",
       "</div>"
      ],
      "text/plain": [
       "                   Model        R2        MSE       MAE\n",
       "0      Linear Regression  0.763417  23.380836  3.750712\n",
       "1          Random Forest  0.909827   8.911551  2.350569\n",
       "2         Neural Network  0.857733  14.059845  2.882492\n",
       "0  Linear Regression H-P  0.763417  23.380836  3.750712\n",
       "1      Random Forest H-P  0.912815   8.616296  2.324673\n",
       "2     Neural Network H-P  0.759024  23.815058  3.432954"
      ]
     },
     "execution_count": 57,
     "metadata": {},
     "output_type": "execute_result"
    }
   ],
   "source": [
    "resultsHP = pd.DataFrame({'Model': ['Linear Regression H-P', 'Random Forest H-P','Neural Network H-P'],\n",
    "                        'R2': [r2_11, r2_22, r2_33], \n",
    "                        'MSE': [mse_11, mse_22, mse_33], \n",
    "                        'MAE': [mae_11, mae_22, mae_33]})\n",
    "\n",
    "pd.concat([results, resultsHP], axis=0)"
   ]
  },
  {
   "cell_type": "markdown",
   "id": "1cc04661",
   "metadata": {},
   "source": [
    "**R:** Como observamos en la tabla de resultados, una vez aplicados los \"Hyper-Parameters\", se concluye lo siguiente:  \n",
    " - El modelo #1: \"Linear Regression\" no sufre **ningún cambio.**\n",
    " - El modelo #2: \"Random Forest\" tiene una **pequeña mejoría** en R2, MSE y MAE.\n",
    " - El modelo #3: \"Neural Network\" **empeora** los resultados, muy posible a la función de activación utilizada.\n",
    " - Random Forest continúa siendo el **mejor modelo**."
   ]
  },
  {
   "cell_type": "markdown",
   "id": "e2dd59ca",
   "metadata": {},
   "source": [
    "## <span style=color:red><b>Ejercicio 4</b></span>\n",
    "<span style=color:blue><b><i>Compara su rendimiento utilizando la aproximación train/test o utilizando todos los datos (validación interna).</i></b></span>"
   ]
  },
  {
   "cell_type": "markdown",
   "id": "32859d4a",
   "metadata": {},
   "source": [
    "**CROSS-VALIDATION:**  \n",
    "- Se realiza este procedimiento con los modelos que contienen los HYPER-PARAMETERS.\n",
    "- Por ser CV, se utilizan TODOS LOS DATOS.\n",
    "- cv=7 obtiene los mejores resultados."
   ]
  },
  {
   "cell_type": "code",
   "execution_count": 71,
   "id": "e4805179",
   "metadata": {},
   "outputs": [
    {
     "data": {
      "text/plain": [
       "fit_time                         0.001140\n",
       "score_time                       0.000997\n",
       "test_r2                          0.450594\n",
       "test_neg_mean_squared_error    -37.287231\n",
       "test_neg_mean_absolute_error    -3.977511\n",
       "dtype: float64"
      ]
     },
     "execution_count": 71,
     "metadata": {},
     "output_type": "execute_result"
    }
   ],
   "source": [
    "from sklearn.model_selection import cross_validate\n",
    "\n",
    "scoring = ['r2', 'neg_mean_squared_error', \"neg_mean_absolute_error\"]\n",
    "\n",
    "#Model 1:\n",
    "model_1cv = linear_model.LinearRegression()\n",
    "scores_1 = cross_validate(model_1cv, scaled_X, y, scoring=scoring, cv=7)\n",
    "\n",
    "pd.DataFrame(scores_1).mean()"
   ]
  },
  {
   "cell_type": "code",
   "execution_count": 80,
   "id": "6efeb794",
   "metadata": {},
   "outputs": [
    {
     "data": {
      "text/plain": [
       "fit_time                         0.417740\n",
       "score_time                       0.011826\n",
       "test_r2                          0.649578\n",
       "test_neg_mean_squared_error    -22.123038\n",
       "test_neg_mean_absolute_error    -3.047351\n",
       "dtype: float64"
      ]
     },
     "execution_count": 80,
     "metadata": {},
     "output_type": "execute_result"
    }
   ],
   "source": [
    "#Model 2: \n",
    "model_2cv = RandomForestRegressor(random_state= 1, n_estimators = 150, oob_score = True)\n",
    "scores_2 = cross_validate(model_2cv, scaled_X, y, scoring=scoring, cv=7)\n",
    "\n",
    "pd.DataFrame(scores_2).mean()"
   ]
  },
  {
   "cell_type": "code",
   "execution_count": 87,
   "id": "c8fa52ec",
   "metadata": {},
   "outputs": [
    {
     "data": {
      "text/plain": [
       "fit_time                         6.698635\n",
       "score_time                       0.001145\n",
       "test_r2                          0.602898\n",
       "test_neg_mean_squared_error    -23.388199\n",
       "test_neg_mean_absolute_error    -3.069601\n",
       "dtype: float64"
      ]
     },
     "execution_count": 87,
     "metadata": {},
     "output_type": "execute_result"
    }
   ],
   "source": [
    "#Model 3: \n",
    "model_3cv = MLPRegressor(hidden_layer_sizes=(13,13,13), activation='logistic', solver='adam', random_state=1, \n",
    "                        max_iter=15000, warm_start=True)\n",
    "scores_3 = cross_validate(model_3cv, scaled_X, y, scoring=scoring, cv=7)\n",
    "\n",
    "pd.DataFrame(scores_3).mean()"
   ]
  },
  {
   "cell_type": "markdown",
   "id": "a5620c75",
   "metadata": {},
   "source": [
    "**Como se oserva en la siguiente tabla, "
   ]
  },
  {
   "cell_type": "code",
   "execution_count": 88,
   "id": "b876868e",
   "metadata": {},
   "outputs": [
    {
     "data": {
      "text/html": [
       "<div>\n",
       "<style scoped>\n",
       "    .dataframe tbody tr th:only-of-type {\n",
       "        vertical-align: middle;\n",
       "    }\n",
       "\n",
       "    .dataframe tbody tr th {\n",
       "        vertical-align: top;\n",
       "    }\n",
       "\n",
       "    .dataframe thead th {\n",
       "        text-align: right;\n",
       "    }\n",
       "</style>\n",
       "<table border=\"1\" class=\"dataframe\">\n",
       "  <thead>\n",
       "    <tr style=\"text-align: right;\">\n",
       "      <th></th>\n",
       "      <th>Model</th>\n",
       "      <th>R2</th>\n",
       "      <th>MSE</th>\n",
       "      <th>MAE</th>\n",
       "    </tr>\n",
       "  </thead>\n",
       "  <tbody>\n",
       "    <tr>\n",
       "      <th>0</th>\n",
       "      <td>Linear Regression</td>\n",
       "      <td>0.763417</td>\n",
       "      <td>23.380836</td>\n",
       "      <td>3.750712</td>\n",
       "    </tr>\n",
       "    <tr>\n",
       "      <th>1</th>\n",
       "      <td>Random Forest</td>\n",
       "      <td>0.909827</td>\n",
       "      <td>8.911551</td>\n",
       "      <td>2.350569</td>\n",
       "    </tr>\n",
       "    <tr>\n",
       "      <th>2</th>\n",
       "      <td>Neural Network</td>\n",
       "      <td>0.857733</td>\n",
       "      <td>14.059845</td>\n",
       "      <td>2.882492</td>\n",
       "    </tr>\n",
       "    <tr>\n",
       "      <th>0</th>\n",
       "      <td>Linear Regression H-P</td>\n",
       "      <td>0.763417</td>\n",
       "      <td>23.380836</td>\n",
       "      <td>3.750712</td>\n",
       "    </tr>\n",
       "    <tr>\n",
       "      <th>1</th>\n",
       "      <td>Random Forest H-P</td>\n",
       "      <td>0.912815</td>\n",
       "      <td>8.616296</td>\n",
       "      <td>2.324673</td>\n",
       "    </tr>\n",
       "    <tr>\n",
       "      <th>2</th>\n",
       "      <td>Neural Network H-P</td>\n",
       "      <td>0.759024</td>\n",
       "      <td>23.815058</td>\n",
       "      <td>3.432954</td>\n",
       "    </tr>\n",
       "    <tr>\n",
       "      <th>0</th>\n",
       "      <td>Linear Regression CV</td>\n",
       "      <td>0.450594</td>\n",
       "      <td>-37.287231</td>\n",
       "      <td>-3.977511</td>\n",
       "    </tr>\n",
       "    <tr>\n",
       "      <th>1</th>\n",
       "      <td>Random Forest CV</td>\n",
       "      <td>0.649578</td>\n",
       "      <td>-22.123038</td>\n",
       "      <td>-3.047351</td>\n",
       "    </tr>\n",
       "    <tr>\n",
       "      <th>2</th>\n",
       "      <td>Neural Network CV</td>\n",
       "      <td>0.602898</td>\n",
       "      <td>-23.388199</td>\n",
       "      <td>-3.069601</td>\n",
       "    </tr>\n",
       "  </tbody>\n",
       "</table>\n",
       "</div>"
      ],
      "text/plain": [
       "                   Model        R2        MSE       MAE\n",
       "0      Linear Regression  0.763417  23.380836  3.750712\n",
       "1          Random Forest  0.909827   8.911551  2.350569\n",
       "2         Neural Network  0.857733  14.059845  2.882492\n",
       "0  Linear Regression H-P  0.763417  23.380836  3.750712\n",
       "1      Random Forest H-P  0.912815   8.616296  2.324673\n",
       "2     Neural Network H-P  0.759024  23.815058  3.432954\n",
       "0   Linear Regression CV  0.450594 -37.287231 -3.977511\n",
       "1       Random Forest CV  0.649578 -22.123038 -3.047351\n",
       "2      Neural Network CV  0.602898 -23.388199 -3.069601"
      ]
     },
     "execution_count": 88,
     "metadata": {},
     "output_type": "execute_result"
    }
   ],
   "source": [
    "scores_1['test_neg_mean_squared_error'].mean()\n",
    "\n",
    "resultsCV = pd.DataFrame({'Model': ['Linear Regression CV', 'Random Forest CV','Neural Network CV'],\n",
    "                        'R2': [scores_1['test_r2'].mean(), scores_2['test_r2'].mean(), scores_3['test_r2'].mean()], \n",
    "                        'MSE': [scores_1['test_neg_mean_squared_error'].mean(), scores_2['test_neg_mean_squared_error'].mean(), scores_3['test_neg_mean_squared_error'].mean()], \n",
    "                        'MAE': [ scores_1['test_neg_mean_absolute_error'].mean(),  scores_2['test_neg_mean_absolute_error'].mean(),  scores_3['test_neg_mean_absolute_error'].mean()]})\n",
    "\n",
    "pd.concat([results, resultsHP, resultsCV], axis=0)"
   ]
  },
  {
   "cell_type": "markdown",
   "id": "80018df2",
   "metadata": {},
   "source": [
    "**R:** \n",
    "- Para los modelos de **\"Linear Regression\" y \"Random Forest\"**, los mejores resultados, se obtuvieron con los **hyper-parameters**, esto no ocurrió con \"Neural Network\", por tratarse de un modelo más complejo.\n",
    "- El CV realizado a los modelos que contienen los Hyper-Parameters, muestra **resultados diferentes y con mayor error**, que al hacerlos con el conjunto de datos divididos en train-test, esto se debe al sesgo y los outliers que contienen las variables, ya que se uso un modelo nuevo en cada caso para controlar que no exista overfitting."
   ]
  },
  {
   "cell_type": "markdown",
   "id": "0eb6d45e",
   "metadata": {},
   "source": [
    "## <span style=color:red><b>Ejercicio 5</b></span>\n",
    "<span style=color:blue><b><i>No utilices la variable del número de habitaciones (RM) a la hora de realizar predicciones.</i></b></span>"
   ]
  },
  {
   "cell_type": "markdown",
   "id": "a9f0471e",
   "metadata": {},
   "source": [
    "Se plantea utilizar los modelos iniciales (1,2,3), que en promedio tienen mejores predicciones para comparar los resultados sin \"RM\"."
   ]
  },
  {
   "cell_type": "code",
   "execution_count": 113,
   "id": "55ec642c",
   "metadata": {},
   "outputs": [],
   "source": [
    "#copy scaled_X\n",
    "X_new = scaled_X.copy()\n",
    "\n",
    "#delete RM column\n",
    "X_new = np.delete(X_new, 5, axis=1)"
   ]
  },
  {
   "cell_type": "code",
   "execution_count": 117,
   "id": "a59b47ed",
   "metadata": {},
   "outputs": [
    {
     "name": "stdout",
     "output_type": "stream",
     "text": [
      "Shape X_train_new: (404, 12) \n",
      "Shape X_test_new: (102, 12) \n",
      "Shape y_train: (404,) \n",
      "Shape y_test: (102,)\n"
     ]
    }
   ],
   "source": [
    "# split into train test sets\n",
    "X_train_new, X_test_new, y_train, y_test = train_test_split(X_new, y, test_size=0.20, random_state=1)\n",
    "print(\"Shape X_train_new:\", X_train.shape, \"\\nShape X_test_new:\", X_test.shape, \n",
    "      \"\\nShape y_train:\", y_train.shape, \"\\nShape y_test:\",y_test.shape)"
   ]
  },
  {
   "cell_type": "markdown",
   "id": "e62d58ed",
   "metadata": {},
   "source": [
    "**MODEL 1: *LINEAR REGRESSION***"
   ]
  },
  {
   "cell_type": "code",
   "execution_count": 118,
   "id": "72ae077e",
   "metadata": {},
   "outputs": [
    {
     "name": "stdout",
     "output_type": "stream",
     "text": [
      "R2: 0.676\n",
      "MSE: 32.051\n",
      "MAE: 4.247\n"
     ]
    }
   ],
   "source": [
    "model_1_new = linear_model.LinearRegression()\n",
    "\n",
    "# Train the model\n",
    "model_1_new.fit(X_train_new,y_train)\n",
    "\n",
    "# make predictions\n",
    "yhat_m1_new = model_1_new.predict(X_test_new)\n",
    "\n",
    "# evaluate predictions\n",
    "r2_1new = r2_score(y_test, yhat_m1_new)\n",
    "mse_1new = mean_squared_error(y_test, yhat_m1_new)\n",
    "mae_1new = mean_absolute_error(y_test, yhat_m1_new)\n",
    "\n",
    "print('R2: %.3f' % r2_1new)\n",
    "print('MSE: %.3f' % mse_1new)\n",
    "print('MAE: %.3f' % mae_1new)"
   ]
  },
  {
   "cell_type": "markdown",
   "id": "000896c3",
   "metadata": {},
   "source": [
    "**MODEL 2: *RANDOM FOREST REGRESSION***"
   ]
  },
  {
   "cell_type": "code",
   "execution_count": 119,
   "id": "7dbda784",
   "metadata": {},
   "outputs": [
    {
     "name": "stdout",
     "output_type": "stream",
     "text": [
      "R2: 0.837\n",
      "MSE: 16.148\n",
      "MAE: 2.960\n"
     ]
    }
   ],
   "source": [
    "# Model\n",
    "model_2_new = RandomForestRegressor(random_state= 1)\n",
    "\n",
    "# Train the model\n",
    "model_2_new.fit(X_train_new, y_train)\n",
    "\n",
    "# make predictions\n",
    "yhat_m2_new = model_2_new.predict(X_test_new)\n",
    "\n",
    "# evaluate predictions\n",
    "r2_2new = r2_score(y_test, yhat_m2_new)\n",
    "mse_2new = mean_squared_error(y_test, yhat_m2_new)\n",
    "mae_2new = mean_absolute_error(y_test, yhat_m2_new)\n",
    "\n",
    "print('R2: %.3f' % r2_2new)\n",
    "print('MSE: %.3f' % mse_2new)\n",
    "print('MAE: %.3f' % mae_2new)"
   ]
  },
  {
   "cell_type": "markdown",
   "id": "0a362c8e",
   "metadata": {},
   "source": [
    "**MODEL 3: *NEURAL NETWORK REGRESSION***"
   ]
  },
  {
   "cell_type": "code",
   "execution_count": 120,
   "id": "56453769",
   "metadata": {},
   "outputs": [
    {
     "name": "stdout",
     "output_type": "stream",
     "text": [
      "R2: 0.735\n",
      "MSE: 26.225\n",
      "MAE: 3.924\n"
     ]
    }
   ],
   "source": [
    "#model\n",
    "model_3_new = MLPRegressor(hidden_layer_sizes=(13,13,13), random_state=1, max_iter=700)\n",
    "\n",
    "# Train the model\n",
    "model_3_new.fit(X_train_new,y_train)\n",
    "\n",
    "# make predictions\n",
    "yhat_m3_new = model_3_new.predict(X_test_new)\n",
    "\n",
    "# evaluate predictions\n",
    "r2_3new = r2_score(y_test, yhat_m3_new)\n",
    "mse_3new = mean_squared_error(y_test, yhat_m3_new)\n",
    "mae_3new = mean_absolute_error(y_test, yhat_m3_new)\n",
    "\n",
    "print('R2: %.3f' % r2_3new)\n",
    "print('MSE: %.3f' % mse_3new)\n",
    "print('MAE: %.3f' % mae_3new)"
   ]
  },
  {
   "cell_type": "code",
   "execution_count": 122,
   "id": "62ba1fc5",
   "metadata": {},
   "outputs": [
    {
     "data": {
      "text/html": [
       "<div>\n",
       "<style scoped>\n",
       "    .dataframe tbody tr th:only-of-type {\n",
       "        vertical-align: middle;\n",
       "    }\n",
       "\n",
       "    .dataframe tbody tr th {\n",
       "        vertical-align: top;\n",
       "    }\n",
       "\n",
       "    .dataframe thead th {\n",
       "        text-align: right;\n",
       "    }\n",
       "</style>\n",
       "<table border=\"1\" class=\"dataframe\">\n",
       "  <thead>\n",
       "    <tr style=\"text-align: right;\">\n",
       "      <th></th>\n",
       "      <th>Model</th>\n",
       "      <th>R2</th>\n",
       "      <th>MSE</th>\n",
       "      <th>MAE</th>\n",
       "    </tr>\n",
       "  </thead>\n",
       "  <tbody>\n",
       "    <tr>\n",
       "      <th>0</th>\n",
       "      <td>Linear Regression</td>\n",
       "      <td>0.763417</td>\n",
       "      <td>23.380836</td>\n",
       "      <td>3.750712</td>\n",
       "    </tr>\n",
       "    <tr>\n",
       "      <th>1</th>\n",
       "      <td>Random Forest</td>\n",
       "      <td>0.909827</td>\n",
       "      <td>8.911551</td>\n",
       "      <td>2.350569</td>\n",
       "    </tr>\n",
       "    <tr>\n",
       "      <th>2</th>\n",
       "      <td>Neural Network</td>\n",
       "      <td>0.857733</td>\n",
       "      <td>14.059845</td>\n",
       "      <td>2.882492</td>\n",
       "    </tr>\n",
       "    <tr>\n",
       "      <th>0</th>\n",
       "      <td>Linear Regression</td>\n",
       "      <td>0.675685</td>\n",
       "      <td>32.051172</td>\n",
       "      <td>4.246684</td>\n",
       "    </tr>\n",
       "    <tr>\n",
       "      <th>1</th>\n",
       "      <td>Random Forest</td>\n",
       "      <td>0.836603</td>\n",
       "      <td>16.148081</td>\n",
       "      <td>2.960147</td>\n",
       "    </tr>\n",
       "    <tr>\n",
       "      <th>2</th>\n",
       "      <td>Neural Network</td>\n",
       "      <td>0.734642</td>\n",
       "      <td>26.224613</td>\n",
       "      <td>3.924442</td>\n",
       "    </tr>\n",
       "  </tbody>\n",
       "</table>\n",
       "</div>"
      ],
      "text/plain": [
       "               Model        R2        MSE       MAE\n",
       "0  Linear Regression  0.763417  23.380836  3.750712\n",
       "1      Random Forest  0.909827   8.911551  2.350569\n",
       "2     Neural Network  0.857733  14.059845  2.882492\n",
       "0  Linear Regression  0.675685  32.051172  4.246684\n",
       "1      Random Forest  0.836603  16.148081  2.960147\n",
       "2     Neural Network  0.734642  26.224613  3.924442"
      ]
     },
     "execution_count": 122,
     "metadata": {},
     "output_type": "execute_result"
    }
   ],
   "source": [
    "results_new = pd.DataFrame({'Model': ['Linear Regression', 'Random Forest','Neural Network'],\n",
    "                        'R2': [r2_1new, r2_2new, r2_3new], \n",
    "                        'MSE': [mse_1new, mse_2new, mse_3new], \n",
    "                        'MAE': [mae_1new, mae_2new, mae_3new]})\n",
    "\n",
    "pd.concat([results, results_new], axis=0)"
   ]
  },
  {
   "cell_type": "markdown",
   "id": "da6360be",
   "metadata": {},
   "source": [
    "Con los resultados presentados en la tabla anterior, se observa que el NO uso del número de habitaciones (RM) a la hora de realizar predicciones, tiene un **gran impacto** en los resultados, **afectando a la calidad de las predicciones**, en otras palabras, la variable eliminada es de importancia/ peso para predecir el precio de las viviendas."
   ]
  },
  {
   "cell_type": "code",
   "execution_count": null,
   "id": "3577443f",
   "metadata": {},
   "outputs": [],
   "source": []
  }
 ],
 "metadata": {
  "kernelspec": {
   "display_name": "Python 3 (ipykernel)",
   "language": "python",
   "name": "python3"
  },
  "language_info": {
   "codemirror_mode": {
    "name": "ipython",
    "version": 3
   },
   "file_extension": ".py",
   "mimetype": "text/x-python",
   "name": "python",
   "nbconvert_exporter": "python",
   "pygments_lexer": "ipython3",
   "version": "3.9.7"
  }
 },
 "nbformat": 4,
 "nbformat_minor": 5
}
